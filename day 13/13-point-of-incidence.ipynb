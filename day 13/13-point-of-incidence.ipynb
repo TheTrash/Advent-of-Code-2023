{
 "cells": [
  {
   "cell_type": "markdown",
   "id": "6a3f2580f6cfe22f",
   "metadata": {
    "collapsed": false
   },
   "source": [
    "https://adventofcode.com/2023/day/13"
   ]
  },
  {
   "cell_type": "code",
   "execution_count": 2,
   "id": "c6efd5449e46c03e",
   "metadata": {
    "ExecuteTime": {
     "end_time": "2023-12-13T21:43:54.347332411Z",
     "start_time": "2023-12-13T21:43:54.293602824Z"
    },
    "collapsed": false
   },
   "outputs": [],
   "source": [
    "from itertools import pairwise\n",
    "\n",
    "import numpy as np"
   ]
  },
  {
   "cell_type": "code",
   "execution_count": 3,
   "id": "af0ea4b8de7d3c9b",
   "metadata": {
    "ExecuteTime": {
     "end_time": "2023-12-13T21:43:54.384189349Z",
     "start_time": "2023-12-13T21:43:54.349256948Z"
    },
    "collapsed": false
   },
   "outputs": [],
   "source": [
    "with open(\"input\") as f:\n",
    "    puzzle = f.read()"
   ]
  },
  {
   "cell_type": "code",
   "execution_count": 4,
   "id": "6047c18f965d4d90",
   "metadata": {
    "ExecuteTime": {
     "end_time": "2023-12-13T21:43:54.384571413Z",
     "start_time": "2023-12-13T21:43:54.381118016Z"
    },
    "collapsed": false
   },
   "outputs": [],
   "source": [
    "testdata = \"\"\"\\\n",
    ".....##\n",
    "###.###\n",
    "###.###\n",
    ".....##\n",
    ".#.#...\n",
    "##..##.\n",
    "..#####\n",
    "######.\n",
    "##.#.#.\n",
    "....#..\n",
    "...#..#\n",
    "\"\"\""
   ]
  },
  {
   "cell_type": "code",
   "execution_count": 5,
   "id": "de3946161d799c6c",
   "metadata": {
    "ExecuteTime": {
     "end_time": "2023-12-13T21:43:54.387483780Z",
     "start_time": "2023-12-13T21:43:54.384759941Z"
    },
    "collapsed": false
   },
   "outputs": [],
   "source": [
    "def parse_block(block):\n",
    "    L = []\n",
    "    for line in block.splitlines():\n",
    "        L.append([1 if c == \"#\" else 0 for c in line])\n",
    "    return np.array(L, dtype=int)\n",
    "\n",
    "\n",
    "def parse_data(data):\n",
    "    return [parse_block(block) for block in data.split(\"\\n\\n\")]"
   ]
  },
  {
   "cell_type": "code",
   "execution_count": 6,
   "id": "cae67589c8e80e73",
   "metadata": {
    "ExecuteTime": {
     "end_time": "2023-12-13T21:43:54.583607056Z",
     "start_time": "2023-12-13T21:43:54.493564703Z"
    },
    "collapsed": false
   },
   "outputs": [],
   "source": [
    "def v_reflection(ary):\n",
    "    h, w = ary.shape\n",
    "    def check_reflect(i, j):\n",
    "        # Odd way to check for array equality, will make sense in Part 2\n",
    "        if (ary[:, i] != ary[:, j]).sum() == 0:\n",
    "            left, right = ary[:, :j], ary[:, j:]\n",
    "            dw = left.shape[1] - right.shape[1]\n",
    "            if (left[:, max(0, dw) :] != np.fliplr(right[:, : dw if dw < 0 else None])).sum() == 0:\n",
    "                return j\n",
    "    for i, j in pairwise(range(w)):\n",
    "        y = check_reflect(i, j)\n",
    "        if y is not None:\n",
    "            return y\n",
    "    return 0\n",
    "\n",
    "def h_reflection(ary):\n",
    "    return v_reflection(np.rot90(ary))"
   ]
  },
  {
   "cell_type": "code",
   "execution_count": 7,
   "id": "484fbb955d3ca10",
   "metadata": {
    "ExecuteTime": {
     "end_time": "2023-12-13T21:45:51.046122010Z",
     "start_time": "2023-12-13T21:45:51.002862507Z"
    },
    "collapsed": false
   },
   "outputs": [
    {
     "ename": "ValueError",
     "evalue": "not enough values to unpack (expected 2, got 1)",
     "output_type": "error",
     "traceback": [
      "\u001b[1;31m---------------------------------------------------------------------------\u001b[0m",
      "\u001b[1;31mValueError\u001b[0m                                Traceback (most recent call last)",
      "Cell \u001b[1;32mIn[7], line 1\u001b[0m\n\u001b[1;32m----> 1\u001b[0m \u001b[38;5;28;43msum\u001b[39;49m\u001b[43m(\u001b[49m\u001b[43mv_reflection\u001b[49m\u001b[43m(\u001b[49m\u001b[43mary\u001b[49m\u001b[43m)\u001b[49m\u001b[43m \u001b[49m\u001b[38;5;241;43m+\u001b[39;49m\u001b[43m \u001b[49m\u001b[43m(\u001b[49m\u001b[43mh_reflection\u001b[49m\u001b[43m(\u001b[49m\u001b[43mary\u001b[49m\u001b[43m)\u001b[49m\u001b[43m \u001b[49m\u001b[38;5;241;43m*\u001b[39;49m\u001b[43m \u001b[49m\u001b[38;5;241;43m100\u001b[39;49m\u001b[43m)\u001b[49m\u001b[43m \u001b[49m\u001b[38;5;28;43;01mfor\u001b[39;49;00m\u001b[43m \u001b[49m\u001b[43mary\u001b[49m\u001b[43m \u001b[49m\u001b[38;5;129;43;01min\u001b[39;49;00m\u001b[43m \u001b[49m\u001b[43mparse_data\u001b[49m\u001b[43m(\u001b[49m\u001b[43mpuzzle\u001b[49m\u001b[43m)\u001b[49m\u001b[43m)\u001b[49m\n",
      "Cell \u001b[1;32mIn[7], line 1\u001b[0m, in \u001b[0;36m<genexpr>\u001b[1;34m(.0)\u001b[0m\n\u001b[1;32m----> 1\u001b[0m \u001b[38;5;28msum\u001b[39m(\u001b[43mv_reflection\u001b[49m\u001b[43m(\u001b[49m\u001b[43mary\u001b[49m\u001b[43m)\u001b[49m \u001b[38;5;241m+\u001b[39m (h_reflection(ary) \u001b[38;5;241m*\u001b[39m \u001b[38;5;241m100\u001b[39m) \u001b[38;5;28;01mfor\u001b[39;00m ary \u001b[38;5;129;01min\u001b[39;00m parse_data(puzzle))\n",
      "Cell \u001b[1;32mIn[6], line 2\u001b[0m, in \u001b[0;36mv_reflection\u001b[1;34m(ary)\u001b[0m\n\u001b[0;32m      1\u001b[0m \u001b[38;5;28;01mdef\u001b[39;00m \u001b[38;5;21mv_reflection\u001b[39m(ary):\n\u001b[1;32m----> 2\u001b[0m     h, w \u001b[38;5;241m=\u001b[39m ary\u001b[38;5;241m.\u001b[39mshape\n\u001b[0;32m      3\u001b[0m     \u001b[38;5;28;01mdef\u001b[39;00m \u001b[38;5;21mcheck_reflect\u001b[39m(i, j):\n\u001b[0;32m      4\u001b[0m         \u001b[38;5;66;03m# Odd way to check for array equality, will make sense in Part 2\u001b[39;00m\n\u001b[0;32m      5\u001b[0m         \u001b[38;5;28;01mif\u001b[39;00m (ary[:, i] \u001b[38;5;241m!=\u001b[39m ary[:, j])\u001b[38;5;241m.\u001b[39msum() \u001b[38;5;241m==\u001b[39m \u001b[38;5;241m0\u001b[39m:\n",
      "\u001b[1;31mValueError\u001b[0m: not enough values to unpack (expected 2, got 1)"
     ]
    }
   ],
   "source": [
    "sum(v_reflection(ary) + (h_reflection(ary) * 100) for ary in parse_data(puzzle))"
   ]
  },
  {
   "cell_type": "code",
   "execution_count": null,
   "id": "67eab7fa2ecf9834",
   "metadata": {
    "collapsed": false
   },
   "outputs": [
    {
     "data": {
      "text/plain": [
       "27502"
      ]
     },
     "execution_count": 31,
     "metadata": {},
     "output_type": "execute_result"
    }
   ],
   "source": [
    "sum(v_reflection(ary) + (h_reflection(ary) * 100) for ary in parse_data(puzzle))"
   ]
  },
  {
   "cell_type": "markdown",
   "id": "ef079219fc5c8797",
   "metadata": {
    "collapsed": false
   },
   "source": [
    "### Part 2"
   ]
  },
  {
   "cell_type": "code",
   "execution_count": null,
   "id": "72db024950ea1313",
   "metadata": {
    "ExecuteTime": {
     "end_time": "2023-12-13T21:48:52.130019908Z",
     "start_time": "2023-12-13T21:48:52.124832333Z"
    },
    "collapsed": false
   },
   "outputs": [],
   "source": [
    "def smudged_v_reflection(ary):\n",
    "    h, w = ary.shape\n",
    "    def check_reflect(i, j):\n",
    "        if (ary[:, i] != ary[:, j]).sum() in (0, 1):\n",
    "            left, right = ary[:, :j], ary[:, j:]\n",
    "            dw = left.shape[1] - right.shape[1]\n",
    "            if (left[:, max(0, dw) :] != np.fliplr(right[:, : dw if dw < 0 else None])).sum() == 1:\n",
    "                return j\n",
    "    for i, j in pairwise(range(w)):\n",
    "        y = check_reflect(i, j)\n",
    "        if y is not None:\n",
    "            return y\n",
    "    return 0\n",
    "\n",
    "def smudged_h_reflection(ary):\n",
    "    return smudged_v_reflection(np.rot90(ary))"
   ]
  },
  {
   "cell_type": "code",
   "execution_count": null,
   "id": "abebc8b6596244c6",
   "metadata": {
    "ExecuteTime": {
     "end_time": "2023-12-13T21:49:26.485748279Z",
     "start_time": "2023-12-13T21:49:26.382432139Z"
    },
    "collapsed": false
   },
   "outputs": [
    {
     "data": {
      "text/plain": [
       "400"
      ]
     },
     "execution_count": 33,
     "metadata": {},
     "output_type": "execute_result"
    }
   ],
   "source": [
    "sum(smudged_v_reflection(ary) + (smudged_h_reflection(ary) * 100) for ary in parse_data(testdata))"
   ]
  },
  {
   "cell_type": "code",
   "execution_count": null,
   "id": "a65926da751b99d7",
   "metadata": {
    "ExecuteTime": {
     "end_time": "2023-12-13T21:50:52.253536903Z",
     "start_time": "2023-12-13T21:50:52.178308312Z"
    },
    "collapsed": false
   },
   "outputs": [
    {
     "name": "stdout",
     "output_type": "stream",
     "text": [
      "CPU times: total: 0 ns\n",
      "Wall time: 7 ms\n"
     ]
    },
    {
     "data": {
      "text/plain": [
       "31947"
      ]
     },
     "execution_count": 34,
     "metadata": {},
     "output_type": "execute_result"
    }
   ],
   "source": [
    "%%time\n",
    "sum(smudged_v_reflection(ary) + (smudged_h_reflection(ary) * 100) for ary in parse_data(puzzle))"
   ]
  }
 ],
 "metadata": {
  "kernelspec": {
   "display_name": "Python 3",
   "language": "python",
   "name": "python3"
  },
  "language_info": {
   "codemirror_mode": {
    "name": "ipython",
    "version": 3
   },
   "file_extension": ".py",
   "mimetype": "text/x-python",
   "name": "python",
   "nbconvert_exporter": "python",
   "pygments_lexer": "ipython3",
   "version": "3.11.6"
  }
 },
 "nbformat": 4,
 "nbformat_minor": 5
}
